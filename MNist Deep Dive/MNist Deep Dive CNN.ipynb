{
 "cells": [
  {
   "cell_type": "markdown",
   "id": "152d0179",
   "metadata": {},
   "source": [
    "### MNist Deep Dive Using a CNN\n",
    "\n",
    "##### By Daniyal Mufti"
   ]
  },
  {
   "cell_type": "code",
   "execution_count": 2,
   "id": "c2e9eb8f",
   "metadata": {},
   "outputs": [],
   "source": [
    "#import relevant libraries\n",
    "from sklearn.datasets import fetch_openml\n",
    "import numpy as np"
   ]
  },
  {
   "cell_type": "code",
   "execution_count": 3,
   "id": "5bb71db4",
   "metadata": {},
   "outputs": [],
   "source": [
    "#Let's fetch the data\n",
    "mnist = fetch_openml('mnist_784', version=1, as_frame=False)\n",
    "X, y = mnist[\"data\"], mnist[\"target\"].astype(np.uint8)"
   ]
  },
  {
   "cell_type": "code",
   "execution_count": 4,
   "id": "febfa004",
   "metadata": {},
   "outputs": [],
   "source": [
    "#Let's split the data into Train, Valid and Test sets\n",
    "\n",
    "X_train, X_valid, X_test, y_train, y_valid, y_test = X[:55000], X[55000:60000], X[60000:], y[:55000], y[55000:60000], y[60000:]"
   ]
  },
  {
   "cell_type": "code",
   "execution_count": 5,
   "id": "3e0be50b",
   "metadata": {},
   "outputs": [
    {
     "name": "stdout",
     "output_type": "stream",
     "text": [
      "(55000, 784) (5000, 784) (10000, 784) (55000,) (5000,) (10000,)\n",
      "(275000, 784) (275000,)\n",
      "(275000, 28, 28, 1) (5000, 28, 28, 1) (10000, 28, 28, 1) (275000,) (5000,) (10000,)\n"
     ]
    }
   ],
   "source": [
    "print(X_train.shape, X_valid.shape, X_test.shape, y_train.shape, y_valid.shape, y_test.shape)\n",
    "\n",
    "from scipy.ndimage.interpolation import shift\n",
    "\n",
    "# A helper function to shift our MNist dataset instance\n",
    "def shift_digit(digit_array, dx, dy, new=0):\n",
    "    return shift(digit_array.reshape(28, 28), [dy, dx], cval=new).reshape(784)\n",
    "\n",
    "# Let's create our augemented Training dataset\n",
    "\n",
    "X_train_expanded = [X_train]\n",
    "y_train_expanded = [y_train]\n",
    "for dx, dy in ((1, 0), (-1, 0), (0, 1), (0, -1)):\n",
    "    shifted_images = np.apply_along_axis(shift_digit, axis=1, arr=X_train, dx=dx, dy=dy)\n",
    "    X_train_expanded.append(shifted_images)\n",
    "    y_train_expanded.append(y_train)\n",
    "\n",
    "X_train_expanded = np.concatenate(X_train_expanded)\n",
    "y_train_expanded = np.concatenate(y_train_expanded)\n",
    "print(X_train_expanded.shape, y_train_expanded.shape)\n",
    "\n",
    "y_train = y_train_expanded\n",
    "X_train = X_train_expanded.reshape(275000, 28, 28)\n",
    "X_valid = X_valid.reshape(5000, 28, 28)\n",
    "X_test = X_test.reshape(10000, 28, 28)\n",
    "X_train = X_train/255\n",
    "X_valid = X_valid/255\n",
    "X_test = X_test/255\n",
    "X_train = X_train[..., np.newaxis]\n",
    "X_valid = X_valid[..., np.newaxis]\n",
    "X_test = X_test[..., np.newaxis]\n",
    "print(X_train.shape, X_valid.shape, X_test.shape, y_train.shape, y_valid.shape, y_test.shape)"
   ]
  },
  {
   "cell_type": "markdown",
   "id": "2627e8c9",
   "metadata": {},
   "source": [
    "##### Run the Model"
   ]
  },
  {
   "cell_type": "code",
   "execution_count": 7,
   "id": "9bda8507",
   "metadata": {},
   "outputs": [
    {
     "data": {
      "image/png": "[encoded data removed]",
      "text/plain": [
       "<Figure size 432x288 with 1 Axes>"
      ]
     },
     "metadata": {
      "needs_background": "light"
     },
     "output_type": "display_data"
    }
   ],
   "source": [
    "%matplotlib inline\n",
    "import matplotlib as mpl\n",
    "import matplotlib.pyplot as plt\n",
    "\n",
    "some_digit_test = X_train[15]\n",
    "plt.imshow(some_digit_test, cmap=mpl.cm.binary)\n",
    "plt.axis(\"off\")\n",
    "plt.show()"
   ]
  },
  {
   "cell_type": "code",
   "execution_count": 8,
   "id": "9a43b7c3",
   "metadata": {},
   "outputs": [
    {
     "name": "stdout",
     "output_type": "stream",
     "text": [
      "Epoch 1/10\n",
      "8594/8594 [==============================] - 69s 7ms/step - loss: 0.1079 - accuracy: 0.9674 - val_loss: 0.0277 - val_accuracy: 0.9926\n",
      "Epoch 2/10\n",
      "8594/8594 [==============================] - 59s 7ms/step - loss: 0.0454 - accuracy: 0.9863 - val_loss: 0.0267 - val_accuracy: 0.9940\n",
      "Epoch 3/10\n",
      "8594/8594 [==============================] - 58s 7ms/step - loss: 0.0344 - accuracy: 0.9894 - val_loss: 0.0254 - val_accuracy: 0.9946\n",
      "Epoch 4/10\n",
      "8594/8594 [==============================] - 60s 7ms/step - loss: 0.0281 - accuracy: 0.9913 - val_loss: 0.0303 - val_accuracy: 0.9932\n",
      "Epoch 5/10\n",
      "8594/8594 [==============================] - 59s 7ms/step - loss: 0.0241 - accuracy: 0.9925 - val_loss: 0.0264 - val_accuracy: 0.9952\n",
      "Epoch 6/10\n",
      "8594/8594 [==============================] - 59s 7ms/step - loss: 0.0218 - accuracy: 0.9933 - val_loss: 0.0255 - val_accuracy: 0.9950\n",
      "Epoch 7/10\n",
      "8594/8594 [==============================] - 58s 7ms/step - loss: 0.0207 - accuracy: 0.9936 - val_loss: 0.0340 - val_accuracy: 0.9942\n",
      "Epoch 8/10\n",
      "8594/8594 [==============================] - 59s 7ms/step - loss: 0.0188 - accuracy: 0.9943 - val_loss: 0.0294 - val_accuracy: 0.9944\n",
      "Epoch 9/10\n",
      "8594/8594 [==============================] - 60s 7ms/step - loss: 0.0179 - accuracy: 0.9945 - val_loss: 0.0285 - val_accuracy: 0.9950\n",
      "Epoch 10/10\n",
      "8594/8594 [==============================] - 59s 7ms/step - loss: 0.0178 - accuracy: 0.9948 - val_loss: 0.0344 - val_accuracy: 0.9934\n"
     ]
    },
    {
     "data": {
      "text/plain": [
       "<tensorflow.python.keras.callbacks.History at 0x1730d307be0>"
      ]
     },
     "execution_count": 8,
     "metadata": {},
     "output_type": "execute_result"
    }
   ],
   "source": [
    "import tensorflow as tf\n",
    "from tensorflow import keras\n",
    "\n",
    "keras.backend.clear_session()\n",
    "tf.random.set_seed(42)\n",
    "np.random.seed(42)\n",
    "\n",
    "model = keras.models.Sequential([\n",
    "    keras.layers.Conv2D(32, kernel_size=3, padding=\"same\", activation=\"relu\"),\n",
    "    keras.layers.Conv2D(64, kernel_size=3, padding=\"same\", activation=\"relu\"),\n",
    "    keras.layers.MaxPool2D(),\n",
    "    keras.layers.Flatten(),\n",
    "    keras.layers.Dropout(0.25),\n",
    "    keras.layers.Dense(128, activation=\"relu\"),\n",
    "    keras.layers.Dropout(0.5),\n",
    "    keras.layers.Dense(10, activation=\"softmax\")\n",
    "])\n",
    "model.compile(loss=\"sparse_categorical_crossentropy\", optimizer=\"nadam\",\n",
    "              metrics=[\"accuracy\"])\n",
    "\n",
    "model.fit(X_train, y_train, epochs=10, validation_data=(X_valid, y_valid))\n",
    "\n"
   ]
  },
  {
   "cell_type": "code",
   "execution_count": 9,
   "id": "f2a13f3a",
   "metadata": {},
   "outputs": [
    {
     "name": "stdout",
     "output_type": "stream",
     "text": [
      "Model: \"sequential\"\n",
      "_________________________________________________________________\n",
      "Layer (type)                 Output Shape              Param #   \n",
      "=================================================================\n",
      "conv2d (Conv2D)              (None, 28, 28, 32)        320       \n",
      "_________________________________________________________________\n",
      "conv2d_1 (Conv2D)            (None, 28, 28, 64)        18496     \n",
      "_________________________________________________________________\n",
      "max_pooling2d (MaxPooling2D) (None, 14, 14, 64)        0         \n",
      "_________________________________________________________________\n",
      "flatten (Flatten)            (None, 12544)             0         \n",
      "_________________________________________________________________\n",
      "dropout (Dropout)            (None, 12544)             0         \n",
      "_________________________________________________________________\n",
      "dense (Dense)                (None, 128)               1605760   \n",
      "_________________________________________________________________\n",
      "dropout_1 (Dropout)          (None, 128)               0         \n",
      "_________________________________________________________________\n",
      "dense_1 (Dense)              (None, 10)                1290      \n",
      "=================================================================\n",
      "Total params: 1,625,866\n",
      "Trainable params: 1,625,866\n",
      "Non-trainable params: 0\n",
      "_________________________________________________________________\n"
     ]
    }
   ],
   "source": [
    "model.summary()"
   ]
  },
  {
   "cell_type": "code",
   "execution_count": 10,
   "id": "97fbc553",
   "metadata": {},
   "outputs": [
    {
     "name": "stdout",
     "output_type": "stream",
     "text": [
      "313/313 [==============================] - 1s 2ms/step - loss: 0.0178 - accuracy: 0.9955\n"
     ]
    },
    {
     "data": {
      "text/plain": [
       "[0.017803387716412544, 0.9955000281333923]"
      ]
     },
     "execution_count": 10,
     "metadata": {},
     "output_type": "execute_result"
    }
   ],
   "source": [
    "model.evaluate(X_test, y_test)"
   ]
  },
  {
   "cell_type": "markdown",
   "id": "a41752d5",
   "metadata": {},
   "source": [
    "### By using data augementation and Convolutional Neural Network get state of the art performance on the MNist dataset with a accuracy on the test set of 99.5%! "
   ]
  },
  {
   "cell_type": "code",
   "execution_count": null,
   "id": "5522a2b4",
   "metadata": {},
   "outputs": [],
   "source": []
  }
 ],
 "metadata": {
  "kernelspec": {
   "display_name": "Python 3",
   "language": "python",
   "name": "python3"
  },
  "language_info": {
   "codemirror_mode": {
    "name": "ipython",
    "version": 3
   },
   "file_extension": ".py",
   "mimetype": "text/x-python",
   "name": "python",
   "nbconvert_exporter": "python",
   "pygments_lexer": "ipython3",
   "version": "3.8.10"
  }
 },
 "nbformat": 4,
 "nbformat_minor": 5
}
