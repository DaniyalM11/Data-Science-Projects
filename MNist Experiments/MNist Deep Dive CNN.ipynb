{
 "cells": [
  {
   "cell_type": "markdown",
   "id": "152d0179",
   "metadata": {},
   "source": [
    "### MNist Deep Dive Using a CNN\n",
    "\n",
    "##### By Daniyal Mufti"
   ]
  },
  {
   "cell_type": "code",
   "execution_count": 1,
   "id": "c2e9eb8f",
   "metadata": {},
   "outputs": [
    {
     "name": "stderr",
     "output_type": "stream",
     "text": [
      "C:\\Users\\Daniy\\Anaconda3\\envs\\tensorflow25\\lib\\site-packages\\numpy\\_distributor_init.py:30: UserWarning: loaded more than 1 DLL from .libs:\n",
      "C:\\Users\\Daniy\\Anaconda3\\envs\\tensorflow25\\lib\\site-packages\\numpy\\.libs\\libopenblas.EL2C6PLE4ZYW3ECEVIV3OXXGRN2NRFM2.gfortran-win_amd64.dll\n",
      "C:\\Users\\Daniy\\Anaconda3\\envs\\tensorflow25\\lib\\site-packages\\numpy\\.libs\\libopenblas.PYQHXLVVQ7VESDPUVUADXEVJOBGHJPAY.gfortran-win_amd64.dll\n",
      "C:\\Users\\Daniy\\Anaconda3\\envs\\tensorflow25\\lib\\site-packages\\numpy\\.libs\\libopenblas64__v0.3.21-gcc_10_3_0.dll\n",
      "  warnings.warn(\"loaded more than 1 DLL from .libs:\"\n",
      "C:\\Users\\Daniy\\Anaconda3\\envs\\tensorflow25\\lib\\site-packages\\scipy\\__init__.py:138: UserWarning: A NumPy version >=1.16.5 and <1.23.0 is required for this version of SciPy (detected version 1.24.1)\n",
      "  warnings.warn(f\"A NumPy version >={np_minversion} and <{np_maxversion} is required for this version of \"\n"
     ]
    }
   ],
   "source": [
    "#import relevant libraries\n",
    "from sklearn.datasets import fetch_openml\n",
    "import numpy as np"
   ]
  },
  {
   "cell_type": "code",
   "execution_count": 2,
   "id": "5bb71db4",
   "metadata": {},
   "outputs": [],
   "source": [
    "#Let's fetch the data\n",
    "mnist = fetch_openml('mnist_784', version=1, as_frame=False)\n",
    "X, y = mnist[\"data\"], mnist[\"target\"].astype(np.uint8)"
   ]
  },
  {
   "cell_type": "code",
   "execution_count": 3,
   "id": "febfa004",
   "metadata": {},
   "outputs": [],
   "source": [
    "#Let's split the data into Train, Valid and Test sets\n",
    "\n",
    "X_train, X_valid, X_test, y_train, y_valid, y_test = X[:55000], X[55000:60000], X[60000:], y[:55000], y[55000:60000], y[60000:]"
   ]
  },
  {
   "cell_type": "code",
   "execution_count": 4,
   "id": "3e0be50b",
   "metadata": {},
   "outputs": [
    {
     "name": "stdout",
     "output_type": "stream",
     "text": [
      "(55000, 784) (5000, 784) (10000, 784) (55000,) (5000,) (10000,)\n",
      "(275000, 784) (275000,)\n",
      "(275000, 28, 28, 1) (5000, 28, 28, 1) (10000, 28, 28, 1) (275000,) (5000,) (10000,)\n"
     ]
    }
   ],
   "source": [
    "print(X_train.shape, X_valid.shape, X_test.shape, y_train.shape, y_valid.shape, y_test.shape)\n",
    "\n",
    "from scipy.ndimage.interpolation import shift\n",
    "\n",
    "# A helper function to shift our MNist dataset instance\n",
    "def shift_digit(digit_array, dx, dy, new=0):\n",
    "    return shift(digit_array.reshape(28, 28), [dy, dx], cval=new).reshape(784)\n",
    "\n",
    "# Let's create our augemented Training dataset\n",
    "\n",
    "X_train_expanded = [X_train]\n",
    "y_train_expanded = [y_train]\n",
    "for dx, dy in ((1, 0), (-1, 0), (0, 1), (0, -1)):\n",
    "    shifted_images = np.apply_along_axis(shift_digit, axis=1, arr=X_train, dx=dx, dy=dy)\n",
    "    X_train_expanded.append(shifted_images)\n",
    "    y_train_expanded.append(y_train)\n",
    "\n",
    "X_train_expanded = np.concatenate(X_train_expanded)\n",
    "y_train_expanded = np.concatenate(y_train_expanded)\n",
    "print(X_train_expanded.shape, y_train_expanded.shape)\n",
    "\n",
    "y_train = y_train_expanded\n",
    "X_train = X_train_expanded.reshape(275000, 28, 28)\n",
    "X_valid = X_valid.reshape(5000, 28, 28)\n",
    "X_test = X_test.reshape(10000, 28, 28)\n",
    "X_train = X_train/255\n",
    "X_valid = X_valid/255\n",
    "X_test = X_test/255\n",
    "X_train = X_train[..., np.newaxis]\n",
    "X_valid = X_valid[..., np.newaxis]\n",
    "X_test = X_test[..., np.newaxis]\n",
    "print(X_train.shape, X_valid.shape, X_test.shape, y_train.shape, y_valid.shape, y_test.shape)"
   ]
  },
  {
   "cell_type": "markdown",
   "id": "2627e8c9",
   "metadata": {},
   "source": [
    "##### Run the Model"
   ]
  },
  {
   "cell_type": "code",
   "execution_count": 5,
   "id": "9bda8507",
   "metadata": {},
   "outputs": [
    {
     "data": {
      "image/png": "[encoded data removed]",
      "text/plain": [
       "<Figure size 640x480 with 1 Axes>"
      ]
     },
     "metadata": {},
     "output_type": "display_data"
    }
   ],
   "source": [
    "%matplotlib inline\n",
    "import matplotlib as mpl\n",
    "import matplotlib.pyplot as plt\n",
    "\n",
    "some_digit_test = X_train[15]\n",
    "plt.imshow(some_digit_test, cmap=mpl.cm.binary)\n",
    "plt.axis(\"off\")\n",
    "plt.show()"
   ]
  },
  {
   "cell_type": "code",
   "execution_count": 6,
   "id": "9a43b7c3",
   "metadata": {},
   "outputs": [
    {
     "name": "stdout",
     "output_type": "stream",
     "text": [
      "Tensorflow version 2.10.0\n",
      "Epoch 1/10\n",
      "8594/8594 [==============================] - 96s 10ms/step - loss: 0.1087 - accuracy: 0.9673 - val_loss: 0.0324 - val_accuracy: 0.9910\n",
      "Epoch 2/10\n",
      "8594/8594 [==============================] - 91s 11ms/step - loss: 0.0464 - accuracy: 0.9859 - val_loss: 0.0320 - val_accuracy: 0.9936\n",
      "Epoch 3/10\n",
      "8594/8594 [==============================] - 93s 11ms/step - loss: 0.0349 - accuracy: 0.9891 - val_loss: 0.0291 - val_accuracy: 0.9936\n",
      "Epoch 4/10\n",
      "8594/8594 [==============================] - 91s 11ms/step - loss: 0.0282 - accuracy: 0.9913 - val_loss: 0.0313 - val_accuracy: 0.9952\n",
      "Epoch 5/10\n",
      "8594/8594 [==============================] - 92s 11ms/step - loss: 0.0239 - accuracy: 0.9926 - val_loss: 0.0302 - val_accuracy: 0.9938\n",
      "Epoch 6/10\n",
      "8594/8594 [==============================] - 92s 11ms/step - loss: 0.0223 - accuracy: 0.9931 - val_loss: 0.0288 - val_accuracy: 0.9946\n",
      "Epoch 7/10\n",
      "8594/8594 [==============================] - 91s 11ms/step - loss: 0.0210 - accuracy: 0.9935 - val_loss: 0.0416 - val_accuracy: 0.9942\n",
      "Epoch 8/10\n",
      "8594/8594 [==============================] - 94s 11ms/step - loss: 0.0202 - accuracy: 0.9939 - val_loss: 0.0284 - val_accuracy: 0.9950\n",
      "Epoch 9/10\n",
      "8594/8594 [==============================] - 93s 11ms/step - loss: 0.0189 - accuracy: 0.9944 - val_loss: 0.0318 - val_accuracy: 0.9948\n",
      "Epoch 10/10\n",
      "8594/8594 [==============================] - 94s 11ms/step - loss: 0.0177 - accuracy: 0.9947 - val_loss: 0.0365 - val_accuracy: 0.9944\n"
     ]
    },
    {
     "data": {
      "text/plain": [
       "<keras.callbacks.History at 0x29f2b5b6070>"
      ]
     },
     "execution_count": 6,
     "metadata": {},
     "output_type": "execute_result"
    }
   ],
   "source": [
    "import tensorflow as tf\n",
    "from tensorflow import keras\n",
    "print(\"Tensorflow version {}\".format(tf.__version__))\n",
    "keras.backend.clear_session()\n",
    "tf.random.set_seed(42)\n",
    "np.random.seed(42)\n",
    "\n",
    "model = keras.models.Sequential([\n",
    "    keras.layers.Conv2D(32, kernel_size=3, padding=\"same\", activation=\"relu\"),\n",
    "    keras.layers.Conv2D(64, kernel_size=3, padding=\"same\", activation=\"relu\"),\n",
    "    keras.layers.MaxPool2D(),\n",
    "    keras.layers.Flatten(),\n",
    "    keras.layers.Dropout(0.25),\n",
    "    keras.layers.Dense(128, activation=\"relu\"),\n",
    "    keras.layers.Dropout(0.5),\n",
    "    keras.layers.Dense(10, activation=\"softmax\")\n",
    "])\n",
    "model.compile(loss=\"sparse_categorical_crossentropy\", optimizer=\"nadam\",\n",
    "              metrics=[\"accuracy\"])\n",
    "\n",
    "model.fit(X_train, y_train, epochs=10, validation_data=(X_valid, y_valid))\n",
    "\n"
   ]
  },
  {
   "cell_type": "code",
   "execution_count": 7,
   "id": "f2a13f3a",
   "metadata": {},
   "outputs": [
    {
     "name": "stdout",
     "output_type": "stream",
     "text": [
      "Model: \"sequential\"\n",
      "_________________________________________________________________\n",
      " Layer (type)                Output Shape              Param #   \n",
      "=================================================================\n",
      " conv2d (Conv2D)             (None, 28, 28, 32)        320       \n",
      "                                                                 \n",
      " conv2d_1 (Conv2D)           (None, 28, 28, 64)        18496     \n",
      "                                                                 \n",
      " max_pooling2d (MaxPooling2D  (None, 14, 14, 64)       0         \n",
      " )                                                               \n",
      "                                                                 \n",
      " flatten (Flatten)           (None, 12544)             0         \n",
      "                                                                 \n",
      " dropout (Dropout)           (None, 12544)             0         \n",
      "                                                                 \n",
      " dense (Dense)               (None, 128)               1605760   \n",
      "                                                                 \n",
      " dropout_1 (Dropout)         (None, 128)               0         \n",
      "                                                                 \n",
      " dense_1 (Dense)             (None, 10)                1290      \n",
      "                                                                 \n",
      "=================================================================\n",
      "Total params: 1,625,866\n",
      "Trainable params: 1,625,866\n",
      "Non-trainable params: 0\n",
      "_________________________________________________________________\n"
     ]
    }
   ],
   "source": [
    "model.summary()"
   ]
  },
  {
   "cell_type": "code",
   "execution_count": 8,
   "id": "97fbc553",
   "metadata": {},
   "outputs": [
    {
     "name": "stdout",
     "output_type": "stream",
     "text": [
      "313/313 [==============================] - 1s 3ms/step - loss: 0.0193 - accuracy: 0.9949\n"
     ]
    },
    {
     "data": {
      "text/plain": [
       "[0.019336478784680367, 0.9948999881744385]"
      ]
     },
     "execution_count": 8,
     "metadata": {},
     "output_type": "execute_result"
    }
   ],
   "source": [
    "model.evaluate(X_test, y_test)"
   ]
  },
  {
   "cell_type": "markdown",
   "id": "a41752d5",
   "metadata": {},
   "source": [
    "### By using data augementation and Convolutional Neural Network get state of the art performance on the MNist dataset with a accuracy on the test set of 99.5%! "
   ]
  },
  {
   "cell_type": "code",
   "execution_count": null,
   "id": "5522a2b4",
   "metadata": {},
   "outputs": [],
   "source": []
  }
 ],
 "metadata": {
  "kernelspec": {
   "display_name": "Python 3 (ipykernel)",
   "language": "python",
   "name": "python3"
  },
  "language_info": {
   "codemirror_mode": {
    "name": "ipython",
    "version": 3
   },
   "file_extension": ".py",
   "mimetype": "text/x-python",
   "name": "python",
   "nbconvert_exporter": "python",
   "pygments_lexer": "ipython3",
   "version": "3.8.10"
  }
 },
 "nbformat": 4,
 "nbformat_minor": 5
}
