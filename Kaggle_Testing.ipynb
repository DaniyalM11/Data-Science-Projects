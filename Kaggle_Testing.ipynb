{
 "cells": [
  {
   "cell_type": "code",
   "execution_count": 1,
   "id": "bf319a7c",
   "metadata": {
    "_cell_guid": "b1076dfc-b9ad-4769-8c92-a6c4dae69d19",
    "_uuid": "8f2839f25d086af736a60e9eeb907d3b93b6e0e5",
    "execution": {
     "iopub.execute_input": "2022-12-23T19:38:12.898699Z",
     "iopub.status.busy": "2022-12-23T19:38:12.898237Z",
     "iopub.status.idle": "2022-12-23T19:38:12.918735Z",
     "shell.execute_reply": "2022-12-23T19:38:12.917976Z"
    },
    "papermill": {
     "duration": 0.027729,
     "end_time": "2022-12-23T19:38:12.921540",
     "exception": false,
     "start_time": "2022-12-23T19:38:12.893811",
     "status": "completed"
    },
    "tags": []
   },
   "outputs": [
    {
     "name": "stdout",
     "output_type": "stream",
     "text": [
      "/kaggle/input/steam-pc-games/games_data.csv\n"
     ]
    }
   ],
   "source": [
    "# This Python 3 environment comes with many helpful analytics libraries installed\n",
    "# It is defined by the kaggle/python Docker image: https://github.com/kaggle/docker-python\n",
    "# For example, here's several helpful packages to load\n",
    "\n",
    "import numpy as np # linear algebra\n",
    "import pandas as pd # data processing, CSV file I/O (e.g. pd.read_csv)\n",
    "\n",
    "# Input data files are available in the read-only \"../input/\" directory\n",
    "# For example, running this (by clicking run or pressing Shift+Enter) will list all files under the input directory\n",
    "\n",
    "import os\n",
    "for dirname, _, filenames in os.walk('/kaggle/input'):\n",
    "    for filename in filenames:\n",
    "        print(os.path.join(dirname, filename))\n",
    "\n",
    "# You can write up to 20GB to the current directory (/kaggle/working/) that gets preserved as output when you create a version using \"Save & Run All\" \n",
    "# You can also write temporary files to /kaggle/temp/, but they won't be saved outside of the current session"
   ]
  },
  {
   "cell_type": "code",
   "execution_count": 2,
   "id": "988fef17",
   "metadata": {
    "execution": {
     "iopub.execute_input": "2022-12-23T19:38:12.926486Z",
     "iopub.status.busy": "2022-12-23T19:38:12.926119Z",
     "iopub.status.idle": "2022-12-23T19:38:13.312564Z",
     "shell.execute_reply": "2022-12-23T19:38:13.311426Z"
    },
    "papermill": {
     "duration": 0.393576,
     "end_time": "2022-12-23T19:38:13.317018",
     "exception": false,
     "start_time": "2022-12-23T19:38:12.923442",
     "status": "completed"
    },
    "tags": []
   },
   "outputs": [
    {
     "name": "stdout",
     "output_type": "stream",
     "text": [
      "  id                              title release_date  \\\n",
      "0  0   Counter-Strike: Global Offensive   2012-08-21   \n",
      "1  1                             Dota 2   2013-07-09   \n",
      "2  2         Warhammer 40,000: Darktide          NaN   \n",
      "3  3  Call of Duty®: Modern Warfare® II          NaN   \n",
      "4  4                      Apex Legends          NaN   \n",
      "5  5                PUBG: BATTLEGROUNDS          NaN   \n",
      "6  6                 NARAKA: BLADEPOINT          NaN   \n",
      "7  7                   Dead by Daylight   2016-06-14   \n",
      "8  8                           Warframe   2013-03-25   \n",
      "9  9                        War Thunder   2013-08-15   \n",
      "\n",
      "                         developer               publisher  \\\n",
      "0  Valve;Hidden Path Entertainment                   Valve   \n",
      "1                            Valve                   Valve   \n",
      "2                              NaN                     NaN   \n",
      "3                              NaN                     NaN   \n",
      "4                              NaN                     NaN   \n",
      "5                              NaN                     NaN   \n",
      "6                              NaN                     NaN   \n",
      "7           Behaviour Digital Inc.  Behaviour Digital Inc.   \n",
      "8                 Digital Extremes        Digital Extremes   \n",
      "9             Gaijin Entertainment    Gaijin Entertainment   \n",
      "\n",
      "                                              genres  \\\n",
      "0                                Action;Free to Play   \n",
      "1                       Action;Free to Play;Strategy   \n",
      "2                                                NaN   \n",
      "3                                                NaN   \n",
      "4                                                NaN   \n",
      "5                                                NaN   \n",
      "6                                                NaN   \n",
      "7                                             Action   \n",
      "8                                Action;Free to Play   \n",
      "9  Action;Free to Play;Massively Multiplayer;Simu...   \n",
      "\n",
      "                         multiplayer_or_singleplayer         price  \\\n",
      "0  Multi-player;Steam Achievements;Full controlle...  Free to play   \n",
      "1  Multi-player;Co-op;Steam Trading Cards;Steam W...  Free to play   \n",
      "2                                                NaN         2,199   \n",
      "3                                                NaN         4,999   \n",
      "4                                                NaN  Free to play   \n",
      "5                                                NaN  Free to play   \n",
      "6                                                NaN         1,199   \n",
      "7  Multi-player;Online Multi-Player;Co-op;Online ...           749   \n",
      "8  Single-player;Multi-player;Co-op;Steam Trading...  Free to play   \n",
      "9  Single-player;MMO;Co-op;Cross-Platform Multipl...  Free to play   \n",
      "\n",
      "       dc_price overall_review  detailed_review  reviews percent_positive  \\\n",
      "0  Free to play       Positive    Very Positive  6774812              88%   \n",
      "1  Free to play       Positive    Very Positive  1885261              82%   \n",
      "2         2,199       Positive  Mostly Positive    26092              72%   \n",
      "3         4,999          Mixed            Mixed   215969              64%   \n",
      "4  Free to play       Positive    Very Positive   539297              85%   \n",
      "5  Free to play          Mixed            Mixed  2109992              56%   \n",
      "6         1,199       Positive  Mostly Positive   130245              73%   \n",
      "7           749       Positive    Very Positive   453698              81%   \n",
      "8  Free to play       Positive    Very Positive   512887              87%   \n",
      "9  Free to play       Positive            Mixed    28437              48%   \n",
      "\n",
      "  win_support  mac_support  lin_support  \n",
      "0           1          1.0          1.0  \n",
      "1           1          1.0          1.0  \n",
      "2           1          0.0          0.0  \n",
      "3           1          0.0          0.0  \n",
      "4           1          0.0          0.0  \n",
      "5           1          0.0          0.0  \n",
      "6           1          0.0          0.0  \n",
      "7           1          0.0          0.0  \n",
      "8           1          0.0          0.0  \n",
      "9           1          1.0          1.0  \n"
     ]
    },
    {
     "name": "stderr",
     "output_type": "stream",
     "text": [
      "/opt/conda/lib/python3.7/site-packages/IPython/core/interactiveshell.py:3552: DtypeWarning: Columns (0,10,11,12,13) have mixed types.Specify dtype option on import or set low_memory=False.\n",
      "  exec(code_obj, self.user_global_ns, self.user_ns)\n"
     ]
    }
   ],
   "source": [
    "data = '/kaggle/input/steam-pc-games/games_data.csv'\n",
    "\n",
    "df = pd.read_csv(data, encoding= 'unicode_escape')\n",
    "print(df.head(10))"
   ]
  }
 ],
 "metadata": {
  "kernelspec": {
   "display_name": "Python 3",
   "language": "python",
   "name": "python3"
  },
  "language_info": {
   "codemirror_mode": {
    "name": "ipython",
    "version": 3
   },
   "file_extension": ".py",
   "mimetype": "text/x-python",
   "name": "python",
   "nbconvert_exporter": "python",
   "pygments_lexer": "ipython3",
   "version": "3.7.12"
  },
  "papermill": {
   "default_parameters": {},
   "duration": 9.237008,
   "end_time": "2022-12-23T19:38:13.941893",
   "environment_variables": {},
   "exception": null,
   "input_path": "__notebook__.ipynb",
   "output_path": "__notebook__.ipynb",
   "parameters": {},
   "start_time": "2022-12-23T19:38:04.704885",
   "version": "2.3.4"
  }
 },
 "nbformat": 4,
 "nbformat_minor": 5
}
